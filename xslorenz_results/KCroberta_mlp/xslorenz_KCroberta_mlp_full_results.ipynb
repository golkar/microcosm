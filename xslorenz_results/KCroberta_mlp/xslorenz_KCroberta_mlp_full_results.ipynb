{
 "cells": [
  {
   "cell_type": "code",
   "execution_count": 1,
   "metadata": {},
   "outputs": [
    {
     "name": "stderr",
     "output_type": "stream",
     "text": [
      "\u001b[34m\u001b[1mwandb\u001b[0m: \u001b[33mWARNING\u001b[0m WANDB_NOTEBOOK_NAME should be a path to a notebook file, couldn't find xslorenz_KCroberta_results.ipynb.\n",
      "\u001b[34m\u001b[1mwandb\u001b[0m: Currently logged in as: \u001b[33mgolkar\u001b[0m. Use \u001b[1m`wandb login --relogin`\u001b[0m to force relogin\n"
     ]
    },
    {
     "data": {
      "text/plain": [
       "True"
      ]
     },
     "execution_count": 1,
     "metadata": {},
     "output_type": "execute_result"
    }
   ],
   "source": [
    "# imports and wandb login\n",
    "import wandb, os, pandas as pd, seaborn as sns, matplotlib.pyplot as plt\n",
    "import numpy as np, copy, torch\n",
    "from tqdm import tqdm\n",
    "\n",
    "sns.set_style(\"ticks\")\n",
    "os.environ[\"WANDB_NOTEBOOK_NAME\"] = \"xslorenz_KCroberta_results.ipynb\"\n",
    "wandb.login()"
   ]
  },
  {
   "attachments": {},
   "cell_type": "markdown",
   "metadata": {},
   "source": [
    "## Exploring the performance of the best trained model"
   ]
  },
  {
   "cell_type": "code",
   "execution_count": 11,
   "metadata": {},
   "outputs": [],
   "source": [
    "# Loading the best trained model and the dataset\n",
    "\n",
    "from transformers import PreTrainedTokenizerFast\n",
    "from datasets import DatasetDict\n",
    "\n",
    "best_run_path = \"/mnt/home/sgolkar/ceph/saves/xslorenz/KCroberta_mlp/wandb/run-20230609_232441-2l1aeo1a/files/model/model_torch_save.pkl\"\n",
    "\n",
    "# model = KCRobertaForMaskedLM.from_pretrained(best_run_path).cuda()\n",
    "# model.power_num = 1/3\n",
    "# model.roberta.embeddings.power_num = 1/3\n",
    "\n",
    "model = torch.load(best_run_path).cuda()\n",
    "model.roberta.embeddings.multiply_num_embedding = True\n",
    "model.roberta.embeddings.zero_others = False\n",
    "model.eval()\n",
    "\n",
    "tokenizer = PreTrainedTokenizerFast(\n",
    "    tokenizer_file=\"../toKCenizer_lorenz.json\",\n",
    "    bos_token=\"[END]\",\n",
    "    eos_token=\"[END]\",\n",
    "    mask_token=\"?\",\n",
    "    pad_token=\"[PAD]\",\n",
    ")\n",
    "\n",
    "vocab_size = len(tokenizer.vocab)"
   ]
  },
  {
   "attachments": {},
   "cell_type": "markdown",
   "metadata": {},
   "source": [
    "### We look at the performance of the model at predicting the first Lorenz parameter."
   ]
  },
  {
   "cell_type": "code",
   "execution_count": 12,
   "metadata": {},
   "outputs": [],
   "source": [
    "# Loading the dataset\n",
    "\n",
    "ds_path = \"/mnt/home/sgolkar/ceph/datasets/microcosm/lorenz_world_xsmall/clean/\"\n",
    "tokenized_ds = DatasetDict.load_from_disk(ds_path + \"toKCenized_xslorenz_ds\")\n",
    "\n",
    "num_token = tokenizer.encode('#')[0]\n",
    "mask_token = tokenizer.encode('?')[0]"
   ]
  },
  {
   "cell_type": "code",
   "execution_count": 13,
   "metadata": {},
   "outputs": [],
   "source": [
    "# Writing a function that masks out the first Lorenz parameter\n",
    "# the first lorenz parameter is always in position 10\n",
    "\n",
    "retokenize = False\n",
    "\n",
    "def mask_nth_param(sample, n = 10, device = 'cpu'):\n",
    "    masked_sample = copy.deepcopy(sample)\n",
    "    masked_sample['input_ids'][n] = mask_token\n",
    "    len_ = len(masked_sample['input_ids'])\n",
    "    masked_sample['masked_numbers'] = copy.deepcopy(sample['numbers'])[:len_]\n",
    "    masked_sample['numbers'] = masked_sample['numbers'][:len_]\n",
    "    masked_sample['labels'] = sample['input_ids']\n",
    "    masked_sample['masked_numbers'][n] = 1.0\n",
    "    # Next two lines are for calculating the correct mlm loss\n",
    "    # tells the model to only look at the masked token for calculating x-entropy\n",
    "    masked_sample['labels'] = list(0*np.array(masked_sample['labels'])-100)\n",
    "    masked_sample['labels'][n] = sample['input_ids'][n]\n",
    "    masked_sample['text'] = tokenizer.decode(sample['input_ids'])\n",
    "    masked_sample['masked_text'] = tokenizer.decode(masked_sample['input_ids'])\n",
    "    masked_sample['ans'] = masked_sample['numbers'][n].item()\n",
    "    \n",
    "    return masked_sample\n",
    "\n",
    "if retokenize:\n",
    "    # Tokenizing the dataset and saving it\n",
    "    masked_ds = tokenized_ds.map(mask_nth_param, batched=False, num_proc=30)\n",
    "    masked_ds.save_to_disk(ds_path + \"toKCenized_xslorenz_ds_masked\")\n",
    "else:\n",
    "    # Loading the tokenized dataset\n",
    "    masked_ds = DatasetDict.load_from_disk(ds_path + \"toKCenized_xslorenz_ds_masked\")\n"
   ]
  },
  {
   "attachments": {},
   "cell_type": "markdown",
   "metadata": {},
   "source": [
    "#### An example of the mask-filling problem"
   ]
  },
  {
   "cell_type": "code",
   "execution_count": 14,
   "metadata": {},
   "outputs": [
    {
     "name": "stdout",
     "output_type": "stream",
     "text": [
      "original text: \n",
      " {'description':{'num_sys':#,'sys0':{'params':[#,#,#],'init_point':[#,#,#],'step_size':#,'name':'lorenz','step_multip':#},'normalization':[[#,#,#],[#,#,#]],'embedding':[[[#,#,#],[#,#,#],[#,#,#]],[#,#,#],[[#,#,#,#,#,#,#,#,#],[#,#,#,#,#,#,#,#,#],[#,#,#,#,#,#,#,#,#]]]},'data':[[#,#,#,#,#,#,#,#,#],[#,#,#,#,#,#,#,#,#],[#,#,#,#,#,#,#,#,#],[#,#,#,#,#,#,#,#,#],[#,#,#,#,#,#,#,#,#],[#,#,#,#,#,#,#,#,#],[#,#,#,#,#,#,#,#,#],[#,#,#,#,#,#,#,#,#],[#,#,#,#,#,#,#,#,#],[#,#,#,#,#,#,#,#,#],[#,#,#,#,#,#,#,#,#],[#,#,#,#,#,#,#,#,#],[#,#,#,#,#,#,#,#,#],[#,#,#,#,#,#,#,#,#],[#,#,#,#,#,#,#,#,#],[#,#,#,#,#,#,#,#,#],[#,#,#,#,#,#,#,#,#],[#,#,#,#,#,#,#,#,#],[#,#,#,#,#,#,#,#,#],[#,#,#,#,#,#,#,#,#],[#,#,#,#,#,#,#,#,#],[#,#,#,#,#,#,#,#,#],[#,#,#,#,#,#,#,#,#],[#,#,#,#,#,#,#,#,#],[#,#,#,#,#,#,#,#,#],[#,#,#,#,#,#,#,#,#],[#,#,#,#,#,#,#,#,#],[#,#,#,#,#,#,#,#,#],[#,#,#,#,#,#,#,#,#],[#,#,#,#,#,#,#,#,#],[#,#,#,#,#,#,#,#,#],[#,#,#,#,#,#,#,#,#],[#,#,#,#,#,#,#,#,#],[#,#,#,#,#,#,#,#,#],[#,#,#,#,#,#,#,#,#],[#,#,#,#,#,#,#,#,#],[#,#,#,#,#,#,#,#,#],[#,#,#,#,#,#,#,#,#],[#,#,#,#,#,#,#,#,#],[#,#,#,#,#,#,#,#,#]]}\n",
      "original numbers: \n",
      " [1.0, 1.0, 1.0, 1.0, 1.0, 1.0, 1.0, 1.0, 1.0, 1.0, 11.41, 1.0, 4.098, 1.0, 28.53, 1.0, 1.0, 1.0, 1.0, 0.832, 1.0, -1.072, 1.0, -0.2062, 1.0, 1.0, 1.0, 700.0, 1.0, 1.0, 1.0, 1.0, 1.0, 8.0, 1.0, 1.0, 1.0, 1.0, 1.0, -1.067, 1.0, -2.506, 1.0, 0.1667, 1.0, 1.0, 1.0, 1.635, 1.0, 3.184, 1.0, 0.6104, 1.0, 1.0, 1.0, 1.0, 1.0, 1.0, 1.0, 0.1676, 1.0, -0.947, 1.0, 0.2747, 1.0, 1.0, 1.0, -0.02942, 1.0, 0.2737, 1.0, 0.9614, 1.0, 1.0, 1.0, 0.9854, 1.0, 0.1692, 1.0, -0.018, 1.0, 1.0, 1.0, 1.0, 1.0, 1.0, 1.0, 1.0, 1.0, 1.0, 1.0, 1.0, 1.0, 0.2646, 1.0, -0.1175, 1.0, -0.3567, 1.0, -0.323, 1.0, 0.06305, 1.0, 0.03506, 1.0, 0.445, 1.0, 0.5986, 1.0, -0.3508, 1.0, 1.0, 1.0, -0.4243, 1.0, -0.187, 1.0, -0.745, 1.0, 0.1343, 1.0, -0.3396, 1.0, -0.2294, 1.0, -0.1536, 1.0, -0.1101, 1.0, -0.0902, 1.0, 1.0, 1.0, -0.3552, 1.0, -0.394, 1.0, 0.4697, 1.0, -0.4148, 1.0, -0.1289, 1.0, -0.412, 1.0, -0.1455, 1.0, 0.0866, 1.0, -0.3325, 1.0, 1.0, 1.0, 1.0, 1.0, 1.0, 1.0, 1.0, 0.0758, 1.0, -0.0493, 1.0, 1.313, 1.0, -0.3257, 1.0, 0.2418, 1.0, -0.08154, 1.0, -0.1326, 1.0, -0.06696, 1.0, -0.008675, 1.0, 1.0, 1.0, -0.007286, 1.0, -0.09, 1.0, 1.229, 1.0, -0.3147, 1.0, 0.1847, 1.0, -0.1327, 1.0, -0.1709, 1.0, -0.09314, 1.0, -0.02744, 1.0, 1.0, 1.0, -0.068, 1.0, -0.1207, 1.0, 1.16, 1.0, -0.3074, 1.0, 0.142, 1.0, -0.1703, 1.0, -0.1971, 1.0, -0.10986, 1.0, -0.04288, 1.0, 1.0, 1.0, -0.11237, 1.0, -0.144, 1.0, 1.107, 1.0, -0.3027, 1.0, 0.1101, 1.0, -0.1982, 1.0, -0.2148, 1.0, -0.1198, 1.0, -0.05585, 1.0, 1.0, 1.0, -0.144, 1.0, -0.1613, 1.0, 1.063, 1.0, -0.2993, 1.0, 0.08636, 1.0, -0.2181, 1.0, -0.2261, 1.0, -0.1251, 1.0, -0.06635, 1.0, 1.0, 1.0, -0.1675, 1.0, -0.1744, 1.0, 1.027, 1.0, -0.297, 1.0, 0.06824, 1.0, -0.233, 1.0, -0.2332, 1.0, -0.1276, 1.0, -0.075, 1.0, 1.0, 1.0, -0.1836, 1.0, -0.1838, 1.0, 0.9976, 1.0, -0.2954, 1.0, 0.05493, 1.0, -0.2432, 1.0, -0.2368, 1.0, -0.1278, 1.0, -0.0819, 1.0, 1.0, 1.0, -0.1951, 1.0, -0.1908, 1.0, 0.972, 1.0, -0.2937, 1.0, 0.04474, 1.0, -0.2502, 1.0, -0.2384, 1.0, -0.1266, 1.0, -0.0875, 1.0, 1.0, 1.0, -0.2029, 1.0, -0.1952, 1.0, 0.949, 1.0, -0.2915, 1.0, 0.03696, 1.0, -0.2546, 1.0, -0.2385, 1.0, -0.1252, 1.0, -0.09143, 1.0, 1.0, 1.0, -0.2073, 1.0, -0.1978, 1.0, 0.928, 1.0, -0.289, 1.0, 0.03125, 1.0, -0.2566, 1.0, -0.2372, 1.0, -0.1231, 1.0, -0.09424, 1.0, 1.0, 1.0, -0.21, 1.0, -0.1991, 1.0, 0.908, 1.0, -0.2864, 1.0, 0.02667, 1.0, -0.2573, 1.0, -0.2351, 1.0, -0.1207, 1.0, -0.0963, 1.0, 1.0, 1.0, -0.211, 1.0, -0.1991, 1.0, 0.8887, 1.0, -0.2825, 1.0, 0.02306, 1.0, -0.2566, 1.0, -0.2324, 1.0, -0.1184, 1.0, -0.0973, 1.0, 1.0, 1.0, -0.2106, 1.0, -0.1978, 1.0, 0.8687, 1.0, -0.2778, 1.0, 0.02022, 1.0, -0.2544, 1.0, -0.2292, 1.0, -0.11633, 1.0, -0.0972, 1.0, 1.0, 1.0, -0.2094, 1.0, -0.1956, 1.0, 0.8486, 1.0, -0.2725, 1.0, 0.01778, 1.0, -0.2515, 1.0, -0.226, 1.0, -0.1146, 1.0, -0.09625, 1.0, 1.0, 1.0, -0.207, 1.0, -0.1919, 1.0, 0.826, 1.0, -0.2651, 1.0, 0.01567, 1.0, -0.2468, 1.0, -0.2222, 1.0, -0.1133, 1.0, -0.09406, 1.0, 1.0, 1.0, -0.2041, 1.0, -0.1874, 1.0, 0.803, 1.0, -0.257, 1.0, 0.01372, 1.0, -0.2416, 1.0, -0.2181, 1.0, -0.1123, 1.0, -0.0912, 1.0, 1.0, 1.0, -0.2002, 1.0, -0.1815, 1.0, 0.7773, 1.0, -0.2471, 1.0, 0.01201, 1.0, -0.2349, 1.0, -0.2139, 1.0, -0.11194, 1.0, -0.0869, 1.0, 1.0, 1.0, -0.1956, 1.0, -0.1742, 1.0, 0.7485, 1.0, -0.2349, 1.0, 0.010254, 1.0, -0.2267, 1.0, -0.2094, 1.0, -0.11237, 1.0, -0.08124, 1.0, 1.0, 1.0, -0.1904, 1.0, -0.1656, 1.0, 0.7163, 1.0, -0.2208, 1.0, 0.00833, 1.0, -0.2174, 1.0, -0.2047, 1.0, -0.1134, 1.0, -0.0744, 1.0, 1.0, 1.0, -0.1841, 1.0, -0.1554, 1.0, 0.6797, 1.0, -0.2042, 1.0, 0.00636, 1.0, -0.2063, 1.0, -0.1993, 1.0, -0.11505, 1.0, -0.0659, 1.0, 1.0, 1.0, -0.1771, 1.0, -0.1437, 1.0, 0.6387, 1.0, -0.1852, 1.0, 0.004116, 1.0, -0.1937, 1.0, -0.1936, 1.0, -0.11725, 1.0, -0.05618, 1.0, 1.0, 1.0, -0.1686, 1.0, -0.1295, 1.0, 0.5913, 1.0, -0.1627, 1.0, 0.001848, 1.0, -0.1786, 1.0, -0.1869, 1.0, -0.12006, 1.0, -0.04434, 1.0, 1.0, 1.0, -0.159, 1.0, -0.11346, 1.0, 0.5366, 1.0, -0.137, 1.0, -0.000947, 1.0, -0.1615, 1.0, -0.1794, 1.0, -0.1234, 1.0, -0.03085, 1.0, 1.0, 1.0, -0.1477, 1.0, -0.0947, 1.0, 0.4739, 1.0, -0.1072, 1.0, -0.00395, 1.0, -0.1416, 1.0, -0.1705, 1.0, -0.1272, 1.0, -0.015175, 1.0, 1.0, 1.0, -0.1346, 1.0, -0.0735, 1.0, 0.4011, 1.0, -0.07336, 1.0, -0.007477, 1.0, -0.1187, 1.0, -0.16, 1.0, -0.1309, 1.0, 0.002361, 1.0, 1.0, 1.0, -0.11914, 1.0, -0.04907, 1.0, 0.3167, 1.0, -0.03464, 1.0, -0.01151, 1.0, -0.0923, 1.0, -0.1472, 1.0, -0.1344, 1.0, 0.02223, 1.0, 1.0, 1.0, -0.10077, 1.0, -0.02126, 1.0, 0.2178, 1.0, 0.00924, 1.0, -0.0161, 1.0, -0.06177, 1.0, -0.1313, 1.0, -0.137, 1.0, 0.0442, 1.0, 1.0, 1.0, -0.0788, 1.0, 0.01022, 1.0, 0.10205, 1.0, 0.0587, 1.0, -0.02136, 1.0, -0.02661, 1.0, -0.1116, 1.0, -0.1376, 1.0, 0.0681, 1.0, 1.0, 1.0, -0.05252, 1.0, 0.04572, 1.0, -0.0339, 1.0, 0.1141, 1.0, -0.0274, 1.0, 0.0139, 1.0, -0.0864, 1.0, -0.1354, 1.0, 0.09375, 1.0, 1.0, 1.0, -0.02066, 1.0, 0.08563, 1.0, -0.1941, 1.0, 0.1757, 1.0, -0.03427, 1.0, 0.06064, 1.0, -0.05432, 1.0, -0.1284, 1.0, 0.1206, 1.0, 1.0, 1.0, 0.01797, 1.0, 0.13, 1.0, -0.3835, 1.0, 0.2437, 1.0, -0.04214, 1.0, 0.1144, 1.0, -0.013084, 1.0, -0.11456, 1.0, 0.1478, 1.0, 1.0, 1.0, 0.06506, 1.0, 0.1791, 1.0, -0.6094, 1.0, 0.3179, 1.0, -0.05124, 1.0, 0.1764, 1.0, 0.04022, 1.0, -0.09064, 1.0, 0.1742, 1.0, 1.0, 1.0, 0.12256, 1.0, 0.2325, 1.0, -0.8774, 1.0, 0.3975, 1.0, -0.06174, 1.0, 0.2472, 1.0, 0.10925, 1.0, -0.05212, 1.0, 0.1973, 1.0, 1.0, 1.0, 0.1937, 1.0, 0.2903, 1.0, -1.198, 1.0, 0.4814, 1.0, -0.0736, 1.0, 0.3289, 1.0, 0.1995, 1.0, 0.006767, 1.0, 0.2148, 1.0, 1.0, 1.0, 0.2825, 1.0, 0.352, 1.0, -1.584, 1.0, 0.5684, 1.0, -0.08704, 1.0, 0.4229, 1.0, 0.3174, 1.0, 0.0942, 1.0, 0.2228, 1.0, 1.0, 1.0, 0.3916, 1.0, 0.4153, 1.0, -2.049, 1.0, 0.654, 1.0, -0.10284, 1.0, 0.5293, 1.0, 0.471, 1.0, 0.2205, 1.0, 0.2148, 1.0, 1.0, 1.0, 0.5283, 1.0, 0.479, 1.0, -2.611, 1.0, 0.7344, 1.0, -0.1207, 1.0, 0.652, 1.0, 0.6724, 1.0, 0.3997, 1.0, 0.184, 1.0, 1.0, 1.0, 0.6987, 1.0, 0.539, 1.0, -3.293, 1.0, 0.8027, 1.0, -0.1414, 1.0, 0.7905, 1.0, 0.935, 1.0, 0.651, 1.0, 0.1192, 1.0, 1.0, 1.0, 0.9126, 1.0, 0.592, 1.0, -4.12, 1.0, 0.8486, 1.0, -0.1649, 1.0, 0.9473, 1.0, 1.279, 1.0, 0.9976, 1.0, 0.006355, 1.0, 1.0, 1.0, 1.18, 1.0, 0.629, 1.0, -5.133, 1.0, 0.858, 1.0, -0.1925, 1.0, 1.123, 1.0, 1.727, 1.0, 1.473, 1.0, -0.174, 1.0, 1.0, 1.0]\n",
      "\n",
      "masked text: \n",
      " {'description':{'num_sys':#,'sys0':{'params':[?,#,#],'init_point':[#,#,#],'step_size':#,'name':'lorenz','step_multip':#},'normalization':[[#,#,#],[#,#,#]],'embedding':[[[#,#,#],[#,#,#],[#,#,#]],[#,#,#],[[#,#,#,#,#,#,#,#,#],[#,#,#,#,#,#,#,#,#],[#,#,#,#,#,#,#,#,#]]]},'data':[[#,#,#,#,#,#,#,#,#],[#,#,#,#,#,#,#,#,#],[#,#,#,#,#,#,#,#,#],[#,#,#,#,#,#,#,#,#],[#,#,#,#,#,#,#,#,#],[#,#,#,#,#,#,#,#,#],[#,#,#,#,#,#,#,#,#],[#,#,#,#,#,#,#,#,#],[#,#,#,#,#,#,#,#,#],[#,#,#,#,#,#,#,#,#],[#,#,#,#,#,#,#,#,#],[#,#,#,#,#,#,#,#,#],[#,#,#,#,#,#,#,#,#],[#,#,#,#,#,#,#,#,#],[#,#,#,#,#,#,#,#,#],[#,#,#,#,#,#,#,#,#],[#,#,#,#,#,#,#,#,#],[#,#,#,#,#,#,#,#,#],[#,#,#,#,#,#,#,#,#],[#,#,#,#,#,#,#,#,#],[#,#,#,#,#,#,#,#,#],[#,#,#,#,#,#,#,#,#],[#,#,#,#,#,#,#,#,#],[#,#,#,#,#,#,#,#,#],[#,#,#,#,#,#,#,#,#],[#,#,#,#,#,#,#,#,#],[#,#,#,#,#,#,#,#,#],[#,#,#,#,#,#,#,#,#],[#,#,#,#,#,#,#,#,#],[#,#,#,#,#,#,#,#,#],[#,#,#,#,#,#,#,#,#],[#,#,#,#,#,#,#,#,#],[#,#,#,#,#,#,#,#,#],[#,#,#,#,#,#,#,#,#],[#,#,#,#,#,#,#,#,#],[#,#,#,#,#,#,#,#,#],[#,#,#,#,#,#,#,#,#],[#,#,#,#,#,#,#,#,#],[#,#,#,#,#,#,#,#,#],[#,#,#,#,#,#,#,#,#]]}\n",
      "masked numbers: \n",
      " [1.0, 1.0, 1.0, 1.0, 1.0, 1.0, 1.0, 1.0, 1.0, 1.0, 1.0, 1.0, 4.09765625, 1.0, 28.53125, 1.0, 1.0, 1.0, 1.0, 0.83203125, 1.0, -1.072265625, 1.0, -0.2061767578125, 1.0, 1.0, 1.0, 700.0, 1.0, 1.0, 1.0, 1.0, 1.0, 8.0, 1.0, 1.0, 1.0, 1.0, 1.0, -1.0673828125, 1.0, -2.505859375, 1.0, 0.166748046875, 1.0, 1.0, 1.0, 1.634765625, 1.0, 3.18359375, 1.0, 0.6103515625, 1.0, 1.0, 1.0, 1.0, 1.0, 1.0, 1.0, 0.1676025390625, 1.0, -0.94677734375, 1.0, 0.274658203125, 1.0, 1.0, 1.0, -0.0294189453125, 1.0, 0.273681640625, 1.0, 0.96142578125, 1.0, 1.0, 1.0, 0.9853515625, 1.0, 0.169189453125, 1.0, -0.01800537109375, 1.0, 1.0, 1.0, 1.0, 1.0, 1.0, 1.0, 1.0, 1.0, 1.0, 1.0, 1.0, 1.0, 0.2646484375, 1.0, -0.11749267578125, 1.0, -0.356689453125, 1.0, -0.322998046875, 1.0, 0.06304931640625, 1.0, 0.035064697265625, 1.0, 0.445068359375, 1.0, 0.5986328125, 1.0, -0.350830078125, 1.0, 1.0, 1.0, -0.42431640625, 1.0, -0.18701171875, 1.0, -0.7451171875, 1.0, 0.13427734375, 1.0, -0.339599609375, 1.0, -0.2293701171875, 1.0, -0.153564453125, 1.0, -0.110107421875, 1.0, -0.0902099609375, 1.0, 1.0, 1.0, -0.355224609375, 1.0, -0.39404296875, 1.0, 0.4697265625, 1.0, -0.414794921875, 1.0, -0.12890625, 1.0, -0.412109375, 1.0, -0.1455078125, 1.0, 0.08660888671875, 1.0, -0.33251953125, 1.0, 1.0, 1.0, 1.0, 1.0, 1.0, 1.0, 1.0, 0.0758056640625, 1.0, -0.049285888671875, 1.0, 1.3134765625, 1.0, -0.32568359375, 1.0, 0.2418212890625, 1.0, -0.08154296875, 1.0, -0.132568359375, 1.0, -0.06695556640625, 1.0, -0.00867462158203125, 1.0, 1.0, 1.0, -0.00728607177734375, 1.0, -0.09002685546875, 1.0, 1.228515625, 1.0, -0.314697265625, 1.0, 0.1846923828125, 1.0, -0.1326904296875, 1.0, -0.1708984375, 1.0, -0.0931396484375, 1.0, -0.027435302734375, 1.0, 1.0, 1.0, -0.0679931640625, 1.0, -0.1207275390625, 1.0, 1.16015625, 1.0, -0.307373046875, 1.0, 0.1419677734375, 1.0, -0.1702880859375, 1.0, -0.1971435546875, 1.0, -0.10986328125, 1.0, -0.042877197265625, 1.0, 1.0, 1.0, -0.11236572265625, 1.0, -0.14404296875, 1.0, 1.107421875, 1.0, -0.302734375, 1.0, 0.110107421875, 1.0, -0.1982421875, 1.0, -0.21484375, 1.0, -0.11981201171875, 1.0, -0.05584716796875, 1.0, 1.0, 1.0, -0.14404296875, 1.0, -0.1612548828125, 1.0, 1.0634765625, 1.0, -0.29931640625, 1.0, 0.08636474609375, 1.0, -0.2181396484375, 1.0, -0.22607421875, 1.0, -0.1251220703125, 1.0, -0.06634521484375, 1.0, 1.0, 1.0, -0.16748046875, 1.0, -0.1744384765625, 1.0, 1.02734375, 1.0, -0.297119140625, 1.0, 0.0682373046875, 1.0, -0.2330322265625, 1.0, -0.233154296875, 1.0, -0.1275634765625, 1.0, -0.07501220703125, 1.0, 1.0, 1.0, -0.18359375, 1.0, -0.183837890625, 1.0, 0.99755859375, 1.0, -0.29541015625, 1.0, 0.054931640625, 1.0, -0.2431640625, 1.0, -0.23681640625, 1.0, -0.1278076171875, 1.0, -0.0819091796875, 1.0, 1.0, 1.0, -0.195068359375, 1.0, -0.1907958984375, 1.0, 0.97216796875, 1.0, -0.293701171875, 1.0, 0.04473876953125, 1.0, -0.250244140625, 1.0, -0.2384033203125, 1.0, -0.1265869140625, 1.0, -0.0875244140625, 1.0, 1.0, 1.0, -0.202880859375, 1.0, -0.1951904296875, 1.0, 0.94921875, 1.0, -0.29150390625, 1.0, 0.036956787109375, 1.0, -0.254638671875, 1.0, -0.238525390625, 1.0, -0.125244140625, 1.0, -0.0914306640625, 1.0, 1.0, 1.0, -0.207275390625, 1.0, -0.19775390625, 1.0, 0.92822265625, 1.0, -0.2890625, 1.0, 0.03125, 1.0, -0.256591796875, 1.0, -0.2371826171875, 1.0, -0.12310791015625, 1.0, -0.09423828125, 1.0, 1.0, 1.0, -0.2099609375, 1.0, -0.1990966796875, 1.0, 0.908203125, 1.0, -0.286376953125, 1.0, 0.02667236328125, 1.0, -0.25732421875, 1.0, -0.235107421875, 1.0, -0.1207275390625, 1.0, -0.0963134765625, 1.0, 1.0, 1.0, -0.2110595703125, 1.0, -0.1990966796875, 1.0, 0.888671875, 1.0, -0.282470703125, 1.0, 0.0230560302734375, 1.0, -0.256591796875, 1.0, -0.232421875, 1.0, -0.118408203125, 1.0, -0.0972900390625, 1.0, 1.0, 1.0, -0.2105712890625, 1.0, -0.19775390625, 1.0, 0.86865234375, 1.0, -0.27783203125, 1.0, 0.0202178955078125, 1.0, -0.25439453125, 1.0, -0.229248046875, 1.0, -0.1163330078125, 1.0, -0.09722900390625, 1.0, 1.0, 1.0, -0.2093505859375, 1.0, -0.195556640625, 1.0, 0.8486328125, 1.0, -0.2724609375, 1.0, 0.0177764892578125, 1.0, -0.25146484375, 1.0, -0.2259521484375, 1.0, -0.1146240234375, 1.0, -0.09625244140625, 1.0, 1.0, 1.0, -0.20703125, 1.0, -0.19189453125, 1.0, 0.826171875, 1.0, -0.26513671875, 1.0, 0.0156707763671875, 1.0, -0.246826171875, 1.0, -0.22216796875, 1.0, -0.11328125, 1.0, -0.09405517578125, 1.0, 1.0, 1.0, -0.2041015625, 1.0, -0.1873779296875, 1.0, 0.80322265625, 1.0, -0.257080078125, 1.0, 0.0137176513671875, 1.0, -0.2415771484375, 1.0, -0.2181396484375, 1.0, -0.1123046875, 1.0, -0.0911865234375, 1.0, 1.0, 1.0, -0.2001953125, 1.0, -0.1815185546875, 1.0, 0.77734375, 1.0, -0.2470703125, 1.0, 0.0120086669921875, 1.0, -0.23486328125, 1.0, -0.2138671875, 1.0, -0.1119384765625, 1.0, -0.0869140625, 1.0, 1.0, 1.0, -0.195556640625, 1.0, -0.1741943359375, 1.0, 0.74853515625, 1.0, -0.23486328125, 1.0, 0.01025390625, 1.0, -0.2266845703125, 1.0, -0.2093505859375, 1.0, -0.11236572265625, 1.0, -0.08123779296875, 1.0, 1.0, 1.0, -0.1904296875, 1.0, -0.1656494140625, 1.0, 0.71630859375, 1.0, -0.2208251953125, 1.0, 0.008331298828125, 1.0, -0.2174072265625, 1.0, -0.2047119140625, 1.0, -0.1134033203125, 1.0, -0.07440185546875, 1.0, 1.0, 1.0, -0.18408203125, 1.0, -0.1553955078125, 1.0, 0.6796875, 1.0, -0.2042236328125, 1.0, 0.006359100341796875, 1.0, -0.206298828125, 1.0, -0.1993408203125, 1.0, -0.11505126953125, 1.0, -0.06591796875, 1.0, 1.0, 1.0, -0.1771240234375, 1.0, -0.1436767578125, 1.0, 0.638671875, 1.0, -0.1851806640625, 1.0, 0.004116058349609375, 1.0, -0.1937255859375, 1.0, -0.193603515625, 1.0, -0.11724853515625, 1.0, -0.056182861328125, 1.0, 1.0, 1.0, -0.1685791015625, 1.0, -0.1295166015625, 1.0, 0.59130859375, 1.0, -0.1627197265625, 1.0, 0.0018482208251953125, 1.0, -0.1785888671875, 1.0, -0.1868896484375, 1.0, -0.12005615234375, 1.0, -0.044342041015625, 1.0, 1.0, 1.0, -0.1590576171875, 1.0, -0.11346435546875, 1.0, 0.53662109375, 1.0, -0.136962890625, 1.0, -0.0009469985961914062, 1.0, -0.1614990234375, 1.0, -0.179443359375, 1.0, -0.1234130859375, 1.0, -0.030853271484375, 1.0, 1.0, 1.0, -0.147705078125, 1.0, -0.0947265625, 1.0, 0.473876953125, 1.0, -0.107177734375, 1.0, -0.003948211669921875, 1.0, -0.1416015625, 1.0, -0.1705322265625, 1.0, -0.127197265625, 1.0, -0.01517486572265625, 1.0, 1.0, 1.0, -0.1346435546875, 1.0, -0.073486328125, 1.0, 0.401123046875, 1.0, -0.0733642578125, 1.0, -0.007476806640625, 1.0, -0.11871337890625, 1.0, -0.1600341796875, 1.0, -0.130859375, 1.0, 0.002361297607421875, 1.0, 1.0, 1.0, -0.119140625, 1.0, -0.049072265625, 1.0, 0.316650390625, 1.0, -0.034637451171875, 1.0, -0.01151275634765625, 1.0, -0.09228515625, 1.0, -0.147216796875, 1.0, -0.1343994140625, 1.0, 0.0222320556640625, 1.0, 1.0, 1.0, -0.10076904296875, 1.0, -0.0212554931640625, 1.0, 0.2177734375, 1.0, 0.00923919677734375, 1.0, -0.0160980224609375, 1.0, -0.061767578125, 1.0, -0.13134765625, 1.0, -0.136962890625, 1.0, 0.044189453125, 1.0, 1.0, 1.0, -0.07879638671875, 1.0, 0.010223388671875, 1.0, 0.10205078125, 1.0, 0.058685302734375, 1.0, -0.0213623046875, 1.0, -0.026611328125, 1.0, -0.111572265625, 1.0, -0.1375732421875, 1.0, 0.068115234375, 1.0, 1.0, 1.0, -0.052520751953125, 1.0, 0.04571533203125, 1.0, -0.033905029296875, 1.0, 0.11407470703125, 1.0, -0.02740478515625, 1.0, 0.0139007568359375, 1.0, -0.08642578125, 1.0, -0.1353759765625, 1.0, 0.09375, 1.0, 1.0, 1.0, -0.020660400390625, 1.0, 0.08563232421875, 1.0, -0.194091796875, 1.0, 0.1756591796875, 1.0, -0.034271240234375, 1.0, 0.060638427734375, 1.0, -0.0543212890625, 1.0, -0.12841796875, 1.0, 0.12060546875, 1.0, 1.0, 1.0, 0.017974853515625, 1.0, 0.1300048828125, 1.0, -0.383544921875, 1.0, 0.24365234375, 1.0, -0.042144775390625, 1.0, 0.1143798828125, 1.0, -0.01308441162109375, 1.0, -0.11456298828125, 1.0, 0.1478271484375, 1.0, 1.0, 1.0, 0.0650634765625, 1.0, 0.1790771484375, 1.0, -0.609375, 1.0, 0.31787109375, 1.0, -0.051239013671875, 1.0, 0.1763916015625, 1.0, 0.04022216796875, 1.0, -0.09063720703125, 1.0, 0.1741943359375, 1.0, 1.0, 1.0, 0.12255859375, 1.0, 0.2325439453125, 1.0, -0.87744140625, 1.0, 0.3974609375, 1.0, -0.061737060546875, 1.0, 0.2471923828125, 1.0, 0.1092529296875, 1.0, -0.0521240234375, 1.0, 0.197265625, 1.0, 1.0, 1.0, 0.1937255859375, 1.0, 0.290283203125, 1.0, -1.1982421875, 1.0, 0.4814453125, 1.0, -0.0736083984375, 1.0, 0.328857421875, 1.0, 0.199462890625, 1.0, 0.00676727294921875, 1.0, 0.21484375, 1.0, 1.0, 1.0, 0.282470703125, 1.0, 0.35205078125, 1.0, -1.583984375, 1.0, 0.568359375, 1.0, -0.0870361328125, 1.0, 0.4228515625, 1.0, 0.3173828125, 1.0, 0.09417724609375, 1.0, 0.2227783203125, 1.0, 1.0, 1.0, 0.3916015625, 1.0, 0.415283203125, 1.0, -2.048828125, 1.0, 0.65380859375, 1.0, -0.10284423828125, 1.0, 0.529296875, 1.0, 0.470947265625, 1.0, 0.220458984375, 1.0, 0.21484375, 1.0, 1.0, 1.0, 0.5283203125, 1.0, 0.47900390625, 1.0, -2.611328125, 1.0, 0.734375, 1.0, -0.1207275390625, 1.0, 0.65185546875, 1.0, 0.67236328125, 1.0, 0.399658203125, 1.0, 0.1839599609375, 1.0, 1.0, 1.0, 0.69873046875, 1.0, 0.5390625, 1.0, -3.29296875, 1.0, 0.802734375, 1.0, -0.141357421875, 1.0, 0.79052734375, 1.0, 0.93505859375, 1.0, 0.65087890625, 1.0, 0.11920166015625, 1.0, 1.0, 1.0, 0.91259765625, 1.0, 0.591796875, 1.0, -4.12109375, 1.0, 0.8486328125, 1.0, -0.1649169921875, 1.0, 0.947265625, 1.0, 1.279296875, 1.0, 0.99755859375, 1.0, 0.00635528564453125, 1.0, 1.0, 1.0, 1.1796875, 1.0, 0.62890625, 1.0, -5.1328125, 1.0, 0.85791015625, 1.0, -0.1925048828125, 1.0, 1.123046875, 1.0, 1.7265625, 1.0, 1.47265625, 1.0, -0.1739501953125, 1.0, 1.0, 1.0]\n",
      "length of the tokenized sample:  958\n",
      "\n",
      "The number 11.40625 is replaced with 1.0.\n"
     ]
    }
   ],
   "source": [
    "# An example of the masking\n",
    "\n",
    "masked_sample = masked_ds[\"val\"][0]\n",
    "# masked_sample = masked_ds[0]\n",
    "# sample = tokenized_ds[\"val\"][0]\n",
    "# masked_sample = mask_nth_param(sample)\n",
    "\n",
    "print('original text: \\n', masked_sample['text'])\n",
    "print('original numbers: \\n', masked_sample['numbers'])\n",
    "\n",
    "print()\n",
    "\n",
    "print('masked text: \\n', masked_sample['masked_text'])\n",
    "print('masked numbers: \\n', masked_sample['masked_numbers'])\n",
    "print('length of the tokenized sample: ', len(masked_sample['input_ids']))\n",
    "\n",
    "print()\n",
    "print('The number {} is replaced with 1.0.'.format(masked_sample['ans']))"
   ]
  },
  {
   "cell_type": "code",
   "execution_count": 15,
   "metadata": {},
   "outputs": [],
   "source": [
    "# defining a prediction function\n",
    "\n",
    "def predict(model, masked_sample, device = 'cuda'):\n",
    "    model.to(device)\n",
    "    out = model(\n",
    "            input_ids = torch.tensor(masked_sample['input_ids']).view(1,-1).to(device),\n",
    "            labels = torch.tensor(masked_sample['labels']).view(1,-1).to(device),\n",
    "            numbers = torch.tensor(masked_sample['masked_numbers']).view(1,-1).to(device),\n",
    "            masked_numbers = torch.tensor(masked_sample['masked_numbers']).view(1,-1).to(device)\n",
    "            )\n",
    "    return out"
   ]
  },
  {
   "cell_type": "code",
   "execution_count": 16,
   "metadata": {},
   "outputs": [
    {
     "name": "stdout",
     "output_type": "stream",
     "text": [
      "predicted token:  #\n",
      "masked token: ?\n",
      "actual token: #\n",
      "\n",
      "predicted number: 5.05\n",
      "masked number: 1.00\n",
      "actual number: 5.15\n",
      "\n",
      "losses:\n",
      "mlm loss: 1.55e-06\n",
      "numbers loss: 0.00316\n",
      "\n"
     ]
    },
    {
     "data": {
      "image/png": "[encoded data removed]",
      "text/plain": [
       "<Figure size 640x480 with 1 Axes>"
      ]
     },
     "metadata": {},
     "output_type": "display_data"
    }
   ],
   "source": [
    "masked_sample = masked_ds[\"val\"][2]\n",
    "# masked_sample = masked_ds[0]\n",
    "# sample = tokenized_ds[\"val\"][0]\n",
    "# masked_sample = mask_first_param(sample)\n",
    "model.eval()\n",
    "device = model.device\n",
    "out = predict(model, masked_sample, device)\n",
    "\n",
    "print('predicted token: ', tokenizer.decode([out.logits[0,10].argmax().item()]))\n",
    "print('masked token:', tokenizer.decode(masked_sample['input_ids'][10]))\n",
    "print('actual token:', tokenizer.decode(masked_sample['labels'][10]))\n",
    "print()\n",
    "print('predicted number: {:.2f}'.format(out.numbers[0,10].item()))\n",
    "print('masked number: {:.2f}'.format(masked_sample['masked_numbers'][10]))\n",
    "print('actual number: {:.2f}'.format(masked_sample['numbers'][10]))\n",
    "\n",
    "print()\n",
    "print('losses:')\n",
    "print('mlm loss: {:.3g}'.format(out.loss_mlm.item()))\n",
    "print('numbers loss: {:.3g}'.format(out.loss_numbers.item()))\n",
    "\n",
    "print()\n",
    "# Even though only the first parameter is masked, the model still makes errors on other parameters\n",
    "diff = np.abs((out.numbers[0]).detach().cpu().numpy() - np.array(masked_sample['numbers']))\n",
    "plt.plot(diff, label='model error')\n",
    "plt.axvline(10, color = 'r', linewidth = .5, label = 'masked number')\n",
    "plt.legend();"
   ]
  },
  {
   "attachments": {},
   "cell_type": "markdown",
   "metadata": {},
   "source": [
    "#### How well does it perform quantitatively?\n",
    "\n",
    "We look at the MSE."
   ]
  },
  {
   "cell_type": "code",
   "execution_count": 17,
   "metadata": {},
   "outputs": [
    {
     "data": {
      "image/png": "[encoded data removed]",
      "text/plain": [
       "<Figure size 640x480 with 1 Axes>"
      ]
     },
     "metadata": {},
     "output_type": "display_data"
    }
   ],
   "source": [
    "# Looking at the distribution of the answers in the train and test sets to set up a baseline\n",
    "\n",
    "ans_dist_train = np.array(masked_ds[\"train\"][\"ans\"])\n",
    "ans_mean_train = np.mean(ans_dist_train)\n",
    "sns.histplot(ans_dist_train, stat=\"probability\")\n",
    "plt.axvline(ans_mean_train, color=\"red\", linestyle=\"--\")\n",
    "plt.show();"
   ]
  },
  {
   "attachments": {},
   "cell_type": "markdown",
   "metadata": {},
   "source": [
    "Computing the output of the model over the test set. The results are saved to preds_anss_probs.npz."
   ]
  },
  {
   "cell_type": "code",
   "execution_count": 19,
   "metadata": {},
   "outputs": [],
   "source": [
    "recompute_answers = False\n",
    "\n",
    "if recompute_answers:\n",
    "\n",
    "    preds = []\n",
    "    anss = []\n",
    "\n",
    "    device = model.device\n",
    "\n",
    "    try:\n",
    "        for masked_sample in tqdm(masked_ds[\"test\"]):\n",
    "\n",
    "            out = predict(model, masked_sample, device)\n",
    "            \n",
    "            anss.append(masked_sample[\"ans\"])\n",
    "            preds.append(out.numbers[0,10].item())\n",
    "    except KeyboardInterrupt:\n",
    "        pass\n",
    "        \n",
    "    preds = np.array(preds)\n",
    "    anss = np.array(anss)\n",
    "\n",
    "    # save preds, anss to numpy file\n",
    "    np.savez(\n",
    "        \"./KC_preds_anss_mlm_full.npz\",\n",
    "        preds=preds,\n",
    "        anss=anss,\n",
    "    )\n",
    "else:\n",
    "    # load preds, anss, probs from numpy file\n",
    "    preds_anss = np.load(\"./KC_preds_anss_mlm_full.npz\")\n",
    "\n",
    "anss = preds_anss[\"anss\"]\n",
    "preds = preds_anss[\"preds\"]"
   ]
  },
  {
   "attachments": {},
   "cell_type": "markdown",
   "metadata": {},
   "source": [
    "RMSE performance comparison:\n",
    "\n",
    "The learned model is usually within ±1 of the real answer."
   ]
  },
  {
   "cell_type": "code",
   "execution_count": 22,
   "metadata": {},
   "outputs": [
    {
     "name": "stdout",
     "output_type": "stream",
     "text": [
      "baseline RMSE: 3.31\n",
      "learned RMSE: 0.54\n"
     ]
    }
   ],
   "source": [
    "print(\"baseline RMSE: {:.2f}\".format(np.sqrt(np.mean((anss -anss.mean()) ** 2))))\n",
    "print(\"learned RMSE: {:.2f}\".format(np.sqrt(np.mean((anss - preds) ** 2))))"
   ]
  },
  {
   "cell_type": "code",
   "execution_count": 23,
   "metadata": {},
   "outputs": [
    {
     "ename": "ValueError",
     "evalue": "operands could not be broadcast together with shapes (1723,) (1722,) ",
     "output_type": "error",
     "traceback": [
      "\u001b[0;31m---------------------------------------------------------------------------\u001b[0m",
      "\u001b[0;31mValueError\u001b[0m                                Traceback (most recent call last)",
      "Cell \u001b[0;32mIn[23], line 3\u001b[0m\n\u001b[1;32m      1\u001b[0m \u001b[39m# sns histogram of the difference between true answer and the predicted answer\u001b[39;00m\n\u001b[1;32m      2\u001b[0m \u001b[39m# set sns histogram bar width to 1\u001b[39;00m\n\u001b[0;32m----> 3\u001b[0m sns\u001b[39m.\u001b[39mhistplot(anss \u001b[39m-\u001b[39;49m preds, stat\u001b[39m=\u001b[39m\u001b[39m\"\u001b[39m\u001b[39mprobability\u001b[39m\u001b[39m\"\u001b[39m, discrete\u001b[39m=\u001b[39m\u001b[39mFalse\u001b[39;00m)\n\u001b[1;32m      4\u001b[0m plt\u001b[39m.\u001b[39mxlabel(\u001b[39m\"\u001b[39m\u001b[39mtrue answer - predicted answer\u001b[39m\u001b[39m\"\u001b[39m)\n",
      "\u001b[0;31mValueError\u001b[0m: operands could not be broadcast together with shapes (1723,) (1722,) "
     ]
    }
   ],
   "source": [
    "# sns histogram of the difference between true answer and the predicted answer\n",
    "# set sns histogram bar width to 1\n",
    "sns.histplot(anss - preds, stat=\"probability\", discrete=False)\n",
    "plt.xlabel(\"true answer - predicted answer\");\n"
   ]
  },
  {
   "cell_type": "code",
   "execution_count": 13,
   "metadata": {},
   "outputs": [
    {
     "data": {
      "image/png": "[encoded data removed]",
      "text/plain": [
       "<Figure size 640x480 with 2 Axes>"
      ]
     },
     "metadata": {},
     "output_type": "display_data"
    }
   ],
   "source": [
    "plt.bar(range(18), [(np.abs(anss - digit)<= 0.5).sum()/len(anss) for digit in range(18)])\n",
    "plt.xlabel(\"answer digit\")\n",
    "plt.ylabel(\"samples per digit\", color=\"tab:blue\")\n",
    "# change the color of the left axis to tab:blue\n",
    "plt.gca().tick_params(axis='y', colors='tab:blue')\n",
    "plt.gca().spines[\"left\"].set_color(\"tab:blue\")   \n",
    "ax2 = plt.twinx()\n",
    "ax2.bar(range(18), [np.sqrt(((digit - preds[np.abs(anss - digit)<= 0.5])**2).mean()) for digit in range(18)], alpha=0.6, color=\"tab:red\")\n",
    "ax2.set_ylabel(\"RMSE per digit\", color=\"tab:red\")\n",
    "ax2.tick_params(axis='y', colors='tab:red')\n",
    "ax2.spines[\"right\"].set_color(\"tab:red\")\n",
    "\n",
    "plt.gca().spines[\"left\"].set_color(\"tab:blue\")\n",
    "\n",
    "# sns despine the top axis only\n",
    "sns.despine(offset=15, top=True, right=False, left=False, bottom=False)"
   ]
  },
  {
   "attachments": {},
   "cell_type": "markdown",
   "metadata": {},
   "source": [
    "### Some interesting observations\n",
    "\n",
    "The model has learned the effect of the step-size-multiplier in the parameters and updates appropriately its belief when we change this parameter:"
   ]
  },
  {
   "cell_type": "code",
   "execution_count": 14,
   "metadata": {},
   "outputs": [
    {
     "name": "stdout",
     "output_type": "stream",
     "text": [
      "correct answer: 6.26953125 \n",
      "\n",
      "step multiplier = 4.0 (actual value)\n",
      "model prediction: 6.27\n",
      "\n",
      "step multiplier = 2.0 (smaller value)\n",
      "model prediction: 8.80\n",
      "\n",
      "step multiplier = 8.0 (larger value)\n",
      "model prediction: 3.05\n",
      "\n"
     ]
    },
    {
     "data": {
      "image/png": "[encoded data removed]",
      "text/plain": [
       "<Figure size 640x480 with 1 Axes>"
      ]
     },
     "metadata": {},
     "output_type": "display_data"
    }
   ],
   "source": [
    "masked_sample = masked_ds[\"test\"][21]\n",
    "\n",
    "print(\"correct answer:\", masked_sample[\"ans\"], '\\n')\n",
    "\n",
    "print('step multiplier = {} (actual value)'.format(masked_sample['numbers'][33]))\n",
    "\n",
    "out = predict(model, masked_sample, device)\n",
    "print('model prediction: {:.2f}\\n'.format(out.numbers[0,10].item()))\n",
    "\n",
    "\n",
    "masked_sample['masked_numbers'][33] = 2.0\n",
    "print('step multiplier = {} (smaller value)'.format(masked_sample['masked_numbers'][33]))\n",
    "out = predict(model, masked_sample, device)\n",
    "print('model prediction: {:.2f}\\n'.format(out.numbers[0,10].item()))\n",
    "\n",
    "\n",
    "masked_sample['masked_numbers'][33] = 8.0\n",
    "print('step multiplier = {} (larger value)'.format(masked_sample['masked_numbers'][33]))\n",
    "out = predict(model, masked_sample, device)\n",
    "print('model prediction: {:.2f}\\n'.format(out.numbers[0,10].item()))\n",
    "\n",
    "step_multips = np.linspace(1, 32, 100)\n",
    "predictions = []\n",
    "for step_multip in step_multips:\n",
    "    masked_sample['masked_numbers'][33] = step_multip\n",
    "    out = predict(model, masked_sample, device)\n",
    "    predictions.append(out.numbers[0,10].item())\n",
    "plt.plot(step_multips, np.array(predictions), '-o', color='tab:blue', ms=3)\n",
    "\n",
    "sns.despine(offset=15)\n",
    "plt.xlabel('step multiplier')\n",
    "plt.ylabel('model prediction (1st param)');\n"
   ]
  },
  {
   "cell_type": "code",
   "execution_count": 15,
   "metadata": {},
   "outputs": [
    {
     "name": "stdout",
     "output_type": "stream",
     "text": [
      "Correct step_multip: 4.0\n",
      "Correct 1st param: 6.27\n",
      "\n",
      "prediction for step_multip: 4.0\n",
      "prediction for 1st param: 6.22\n"
     ]
    }
   ],
   "source": [
    "# Masking out the step multiplicity\n",
    "masked_sample = masked_ds[\"test\"][21]\n",
    "\n",
    "print('Correct step_multip: {:.1f}'.format(masked_sample['numbers'][33]))\n",
    "print('Correct 1st param: {:.2f}'.format(masked_sample['numbers'][10]))\n",
    "\n",
    "masked_sample['masked_numbers'][33] = 1.0\n",
    "masked_sample['input_ids'][33] = tokenizer.mask_token_id\n",
    "\n",
    "print()\n",
    "out = predict(model, masked_sample, device)\n",
    "\n",
    "print('prediction for step_multip: {:.1f}'.format(out.numbers[0,33].item()))\n",
    "print('prediction for 1st param: {:.2f}'.format(out.numbers[0,10].item()))"
   ]
  },
  {
   "cell_type": "code",
   "execution_count": 16,
   "metadata": {},
   "outputs": [],
   "source": [
    "# Functions needsed to deal with new sample from the simulator\n",
    "\n",
    "import re\n",
    "\n",
    "reg_ex = r\"(-\\d+\\.\\d+e-\\d+)|(-\\d+\\.\\d+e\\d+)|(\\d+\\.\\d+e-\\d+)|(\\d+\\.\\d+e\\d+)|(-\\d+e-\\d+)|(-\\d+e\\d+)|(\\d+e-\\d+)|(\\d+e\\d+)|(-\\d+\\.\\d+)|(\\d+\\.\\d+)|((?<!sys)\\d+)\"\n",
    "\n",
    "\n",
    "def replace_numbers(text):\n",
    "    text = re.sub(reg_ex, \"#\", text)\n",
    "    return text\n",
    "\n",
    "\n",
    "def find_numbers(text):\n",
    "    return [eval(\"\".join(el)) for el in re.findall(reg_ex, text)]\n",
    "\n",
    "\n",
    "def reconstruct_numbers(text, numbers):\n",
    "    for number in numbers:\n",
    "        text = text.replace(\"#\", str(number), 1)\n",
    "    return text\n",
    "\n",
    "max_len = 1150\n",
    "def tokenize_fnc(sample):\n",
    "    text = sample[\"text\"].replace(\" \", \"\")\n",
    "    replaced_text = replace_numbers(text)\n",
    "    out = tokenizer(replaced_text)\n",
    "    ids = np.array(out[\"input_ids\"])\n",
    "    ids = np.pad(ids, (0, max_len - len(ids)), \"constant\", constant_values=-1)\n",
    "    locs = ids == num_token\n",
    "    num_embed = np.ones(max_len).astype(np.float16)\n",
    "    num_embed[locs] = find_numbers(text)\n",
    "    out[\"numbers\"] = num_embed\n",
    "    return out"
   ]
  },
  {
   "cell_type": "code",
   "execution_count": 17,
   "metadata": {},
   "outputs": [
    {
     "name": "stdout",
     "output_type": "stream",
     "text": [
      "Correct step_multip: 3.0\n",
      "prediction for step_multip: 3.0\n"
     ]
    }
   ],
   "source": [
    "import microcosm\n",
    "text_sample = {}\n",
    "text_sample['text'] = str(microcosm.sample_world(\n",
    "        to_list=True,\n",
    "        graceful_fail=True,\n",
    "        seed=1,\n",
    "        num_steps=40,\n",
    "        max_dim=10,\n",
    "        max_sys=2,\n",
    "        step_multip=3\n",
    "    )).replace(' ','')\n",
    "\n",
    "sample = tokenize_fnc(text_sample)\n",
    "\n",
    "masked_sample = mask_nth_param(sample, 33, device)\n",
    "\n",
    "print('Correct step_multip: {:.1f}'.format(masked_sample['numbers'][33]))\n",
    "out = predict(model, masked_sample, device)\n",
    "print('prediction for step_multip: {:.1f}'.format(out.numbers[0,33].item()))"
   ]
  },
  {
   "cell_type": "code",
   "execution_count": 18,
   "metadata": {},
   "outputs": [
    {
     "name": "stdout",
     "output_type": "stream",
     "text": [
      "Correct step_multip: 5.0\n",
      "prediction for step_multip: 5.0\n"
     ]
    }
   ],
   "source": [
    "import microcosm\n",
    "text_sample = {}\n",
    "text_sample['text'] = str(microcosm.sample_world(\n",
    "        to_list=True,\n",
    "        graceful_fail=True,\n",
    "        seed=1,\n",
    "        num_steps=40,\n",
    "        max_dim=10,\n",
    "        max_sys=2,\n",
    "        step_multip=5\n",
    "    )).replace(' ','')\n",
    "\n",
    "sample = tokenize_fnc(text_sample)\n",
    "\n",
    "masked_sample = mask_nth_param(sample, 33, device)\n",
    "\n",
    "print('Correct step_multip: {:.1f}'.format(masked_sample['numbers'][33]))\n",
    "out = predict(model, masked_sample, device)\n",
    "print('prediction for step_multip: {:.1f}'.format(out.numbers[0,33].item()))"
   ]
  },
  {
   "cell_type": "code",
   "execution_count": 47,
   "metadata": {},
   "outputs": [
    {
     "name": "stdout",
     "output_type": "stream",
     "text": [
      "Correct step_multip: 4.0\n",
      "prediction for step_multip: 3.0\n"
     ]
    }
   ],
   "source": [
    "# Looking at different lengths\n",
    "import microcosm\n",
    "text_sample = {}\n",
    "text_sample['text'] = str(microcosm.sample_world(\n",
    "        to_list=True,\n",
    "        graceful_fail=True,\n",
    "        seed=1,\n",
    "        num_steps=30,\n",
    "        max_dim=10,\n",
    "        max_sys=2,\n",
    "        step_multip=4\n",
    "    )).replace(' ','')\n",
    "\n",
    "sample = tokenize_fnc(text_sample)\n",
    "\n",
    "masked_sample = mask_nth_param(sample, 33, device)\n",
    "\n",
    "print('Correct step_multip: {:.1f}'.format(masked_sample['numbers'][33]))\n",
    "out = predict(model, masked_sample, device)\n",
    "print('prediction for step_multip: {:.1f}'.format(out.numbers[0,33].item()))"
   ]
  },
  {
   "cell_type": "code",
   "execution_count": 52,
   "metadata": {},
   "outputs": [
    {
     "name": "stdout",
     "output_type": "stream",
     "text": [
      "data shape:  (40, 5)\n",
      "num sys:  4\n",
      "Correct step_multip: 4.0\n",
      "prediction for step_multip: 33.2\n"
     ]
    }
   ],
   "source": [
    "# Looking at different lengths\n",
    "import microcosm\n",
    "text_sample = {}\n",
    "text_sample['text'] = str(microcosm.sample_world(\n",
    "        to_list=True,\n",
    "        graceful_fail=True,\n",
    "        seed=2,\n",
    "        num_steps=40,\n",
    "        max_dim=6,\n",
    "        max_sys=4,\n",
    "        step_multip=4\n",
    "    )).replace(' ','')\n",
    "sample_dict = eval(text_sample['text'])\n",
    "print('data shape: ', np.array(sample_dict['data']).shape)\n",
    "print('num sys: ', sample_dict['description']['num_sys'])\n",
    "\n",
    "sample = tokenize_fnc(text_sample)\n",
    "\n",
    "masked_sample = mask_nth_param(sample, 33, device)\n",
    "\n",
    "print('Correct step_multip: {:.1f}'.format(masked_sample['numbers'][33]))\n",
    "out = predict(model, masked_sample, device)\n",
    "print('prediction for step_multip: {:.1f}'.format(out.numbers[0,33].item()))"
   ]
  },
  {
   "cell_type": "code",
   "execution_count": 33,
   "metadata": {},
   "outputs": [
    {
     "name": "stdout",
     "output_type": "stream",
     "text": [
      "Correct 1st param: 10.6\n",
      "prediction for 1st param: 11.1\n"
     ]
    }
   ],
   "source": [
    "# Looking at different lengths\n",
    "import microcosm\n",
    "text_sample = {}\n",
    "text_sample['text'] = str(microcosm.sample_world(\n",
    "        to_list=True,\n",
    "        graceful_fail=True,\n",
    "        seed=1,\n",
    "        num_steps=40,\n",
    "        max_dim=12,\n",
    "        max_sys=2,\n",
    "        step_multip=4\n",
    "    )).replace(' ','')\n",
    "\n",
    "sample = tokenize_fnc(text_sample)\n",
    "\n",
    "masked_sample = mask_nth_param(sample, 10, device)\n",
    "\n",
    "print('Correct 1st param: {:.1f}'.format(masked_sample['numbers'][10]))\n",
    "out = predict(model, masked_sample, device)\n",
    "print('prediction for 1st param: {:.1f}'.format(out.numbers[0,10].item()))"
   ]
  },
  {
   "cell_type": "code",
   "execution_count": null,
   "metadata": {},
   "outputs": [],
   "source": []
  }
 ],
 "metadata": {
  "kernelspec": {
   "display_name": "gptLY",
   "language": "python",
   "name": "python3"
  },
  "language_info": {
   "codemirror_mode": {
    "name": "ipython",
    "version": 3
   },
   "file_extension": ".py",
   "mimetype": "text/x-python",
   "name": "python",
   "nbconvert_exporter": "python",
   "pygments_lexer": "ipython3",
   "version": "3.10.10"
  },
  "orig_nbformat": 4
 },
 "nbformat": 4,
 "nbformat_minor": 2
}
